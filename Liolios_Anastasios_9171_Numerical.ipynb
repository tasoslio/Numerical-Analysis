{
 "cells": [
  {
   "cell_type": "markdown",
   "metadata": {},
   "source": [
    "# Προγραμματιστική Εργασία Στην Αριθμητική Ανάλυση 2023\n",
    "\n",
    "###  Ονοματεπώνυμο: Λιόλιος Αναστάσιος \n",
    "###  ΑΕΜ: 9171\n",
    "###  Email: lioliosaa@ece.auth.gr\n",
    "\n",
    "### Παραγοντοποιήσεις LU και QR\n",
    "Παρακάτω παρουσιάζονται οι δύο συναρτήσεις LUmine που δέχεται ως είσοδο έναν τετραγωνικό πίνακα Α και εξάγει έναν κάτω τριγωνικό πίνακα L και έναν άνω τριγωνικό πίνακα U τέτοιους ώστε A = LU και η QRmine που υλοποιεί την παραγοντοποίηση QR με την μέθοδο Gram-Schmidt."
   ]
  },
  {
   "cell_type": "code",
   "execution_count": 158,
   "metadata": {},
   "outputs": [],
   "source": [
    "import numpy as np"
   ]
  },
  {
   "cell_type": "code",
   "execution_count": 114,
   "metadata": {},
   "outputs": [],
   "source": [
    "def LUmine(A):\n",
    "    n = A.shape[0] # A array's dimension\n",
    "    L = np.matrix(np.identity(n)) \n",
    "    U = A\n",
    "    for j in range(0, n - 1):\n",
    "        for i in range(j + 1, n):\n",
    "            mult = A[i, j] / A[j, j]\n",
    "            A[i, j + 1:n] = A[i, j + 1:n] - mult * A[j, j + 1:n]\n",
    "            U[i, j + 1:n] = A[i, j + 1:n]\n",
    "            L[i, j] = mult\n",
    "            U[i, j] = 0\n",
    "    return L, U"
   ]
  },
  {
   "cell_type": "code",
   "execution_count": 108,
   "metadata": {},
   "outputs": [],
   "source": [
    "def QRmine(A):\n",
    "    n, m= A.shape\n",
    "    Q = np.empty((n, n)) # initialize matrix Q\n",
    "    q = np.empty((n, n)) # initialize matrix u\n",
    "\n",
    "    q[:, 0] = A[:, 0]\n",
    "    Q[:, 0] = q[:, 0] / np.linalg.norm(q[:, 0])\n",
    "\n",
    "    for i in range(1, n):\n",
    "\n",
    "        q[:, i] = A[:, i]\n",
    "        for j in range(i):\n",
    "            q[:, i] -= (A[:, i] @ Q[:, j]) * Q[:, j] # get each q vector\n",
    "\n",
    "        Q[:, i] = q[:, i] / np.linalg.norm(q[:, i]) # compute each e vetor\n",
    "\n",
    "    R = np.zeros((n, m))\n",
    "    for i in range(n):\n",
    "        for j in range(i, m):\n",
    "            R[i, j] = A[:, j] @ Q[:, i]\n",
    "\n",
    "    return Q, R\n"
   ]
  },
  {
   "cell_type": "markdown",
   "metadata": {},
   "source": [
    "### Πίνακες Hilbert\n",
    "##### Πρώτο Ερώτημα\n",
    "Η παρακάτω συνάρτηση υλοποιεί τη δημιουργία ενός πίνακα Hilbert nxn έχοντας ως είσοδο τη διάσταση n."
   ]
  },
  {
   "cell_type": "code",
   "execution_count": 116,
   "metadata": {},
   "outputs": [],
   "source": [
    "def Hilbert_array(n):\n",
    "    return np.array([[1 / (i + j + 1) for j in range(n)] for i in range(n)])"
   ]
  },
  {
   "cell_type": "code",
   "execution_count": 117,
   "metadata": {},
   "outputs": [
    {
     "data": {
      "text/plain": [
       "array([[1.        , 0.5       , 0.33333333, 0.25      ],\n",
       "       [0.5       , 0.33333333, 0.25      , 0.2       ],\n",
       "       [0.33333333, 0.25      , 0.2       , 0.16666667],\n",
       "       [0.25      , 0.2       , 0.16666667, 0.14285714]])"
      ]
     },
     "execution_count": 117,
     "metadata": {},
     "output_type": "execute_result"
    }
   ],
   "source": [
    "# Example\n",
    "Hilbert_array(4)"
   ]
  },
  {
   "cell_type": "markdown",
   "metadata": {},
   "source": [
    "##### Δεύτερο Ερώτημα"
   ]
  },
  {
   "cell_type": "code",
   "execution_count": 142,
   "metadata": {},
   "outputs": [
    {
     "data": {
      "text/plain": [
       "array([[    5.],\n",
       "       [ -120.],\n",
       "       [  630.],\n",
       "       [-1120.],\n",
       "       [  630.]])"
      ]
     },
     "execution_count": 142,
     "metadata": {},
     "output_type": "execute_result"
    }
   ],
   "source": [
    "# Solve with LU\n",
    "n = 5\n",
    "H = Hilbert_array(n)\n",
    "H\n",
    "b = np.ones((n, 1))\n",
    "L, U = LUmine(H)\n",
    "y = np.linalg.solve(L, b)\n",
    "x = np.linalg.solve(U, y)\n",
    "x"
   ]
  },
  {
   "cell_type": "code",
   "execution_count": 141,
   "metadata": {},
   "outputs": [
    {
     "data": {
      "text/plain": [
       "array([[    5.00014539],\n",
       "       [ -120.00275055],\n",
       "       [  630.01193741],\n",
       "       [-1120.01810042],\n",
       "       [  630.00887927]])"
      ]
     },
     "execution_count": 141,
     "metadata": {},
     "output_type": "execute_result"
    }
   ],
   "source": [
    "# Solve with QR\n",
    "n = 5\n",
    "H = Hilbert_array(n)\n",
    "H\n",
    "b = np.ones((n, 1))\n",
    "Q, R = QRmine(H)\n",
    "x_qr = np.linalg.solve(R,np.dot(Q.T, b))\n",
    "x_qr"
   ]
  },
  {
   "cell_type": "markdown",
   "metadata": {},
   "source": [
    "#### Τρίτο Ερώτημα\n",
    "Όπως περίμεναμε το σφάλμα είναι αρκετά μικρό με την αλλαγή που βάλαμε και στις δύο περιπτώσεις των επιλύσεων με παραγοντοποίηση. Νομίζω πως ήταν αναμενόμενο με μια γρήγορη σκέψη."
   ]
  },
  {
   "cell_type": "code",
   "execution_count": 132,
   "metadata": {},
   "outputs": [
    {
     "data": {
      "text/plain": [
       "7.503331289626658e-12"
      ]
     },
     "execution_count": 132,
     "metadata": {},
     "output_type": "execute_result"
    }
   ],
   "source": [
    "### solve with LU \n",
    "n = 5\n",
    "H = Hilbert_array(n)\n",
    "b_new = np.ones((n, 1))\n",
    "b_new[0] += 10**(-15)\n",
    "L, U = LUmine(H)\n",
    "y_new = np.linalg.solve(L, b_new)\n",
    "x_new = np.linalg.solve(U, y_new)\n",
    "np.max(np.abs(x_lu - x_new))\n",
    "\n"
   ]
  },
  {
   "cell_type": "code",
   "execution_count": 134,
   "metadata": {},
   "outputs": [
    {
     "data": {
      "text/plain": [
       "6.821210263296962e-13"
      ]
     },
     "execution_count": 134,
     "metadata": {},
     "output_type": "execute_result"
    }
   ],
   "source": [
    "### solve with QR\n",
    "n = 5\n",
    "H = Hilbert_array(n)\n",
    "b_new = np.ones((n, 1))\n",
    "b_new[0] += 10**(-15)\n",
    "Q, R = adjust_sign(*QRmine(H))\n",
    "x_qr_new = np.linalg.solve(R,np.dot(Q.T, b_new))\n",
    "x_qr_new\n",
    "np.max(np.abs(x_qr - x_qr_new))"
   ]
  },
  {
   "cell_type": "markdown",
   "metadata": {},
   "source": [
    "#### Τέταρτο  Ερώτημα\n",
    "Παρατηρούμε ότι το σφάλμα στην περίπτωση επίλυσης με QR παραγοντοποποίηση είναι πολύ μικρότερο σε σχέση με την επίλυση με LU για διάφορες τιμές του n (0 εώς 100). Πιο συγκεκριμένα, το σφάλμα στην QR επίλυση είναι της τάξης του 10^-9 ενώ το σφάλμα με LU πάρα πολύ μεγαλύτερης τάξης."
   ]
  },
  {
   "cell_type": "code",
   "execution_count": 135,
   "metadata": {},
   "outputs": [],
   "source": [
    "error = np.zeros((100, 1))\n",
    "\n",
    "for n in range(1, 101):\n",
    "    H = Hilbert_array(n)\n",
    "    b = np.ones((n, 1))\n",
    "    b_new = np.ones((n, 1))\n",
    "    b_new[0] += 10**(-15)\n",
    "    L, U = LUmine(H)\n",
    "    y = np.linalg.solve(L, b)\n",
    "    x = np.linalg.solve(U, y)\n",
    "    y_new = np.linalg.solve(L, b_new)\n",
    "    x_new = np.linalg.solve(U, y_new)\n",
    "    error[n-1] = np.max(np.abs(x - x_new))\n",
    "    "
   ]
  },
  {
   "cell_type": "code",
   "execution_count": 136,
   "metadata": {},
   "outputs": [],
   "source": [
    "error_qr = np.zeros((100, 1))\n",
    "\n",
    "for n in range(1, 101):\n",
    "    H = Hilbert_array(n)\n",
    "    b = np.ones((n, 1))\n",
    "    b_new = np.ones((n, 1))\n",
    "    b_new[0] += 10**(-15)\n",
    "    Q, R = adjust_sign(*QRmine(H))\n",
    "    x_qr = np.linalg.solve(R,np.dot(Q.T, b))\n",
    "    x_qr_new = np.linalg.solve(R,np.dot(Q.T, b_new))\n",
    "    error_qr[n-1] = np.max(np.abs(x_qr - x_qr_new))"
   ]
  },
  {
   "cell_type": "code",
   "execution_count": 143,
   "metadata": {},
   "outputs": [
    {
     "data": {
      "text/plain": [
       "<function matplotlib.pyplot.show(close=None, block=None)>"
      ]
     },
     "execution_count": 143,
     "metadata": {},
     "output_type": "execute_result"
    },
    {
     "data": {
      "image/png": "[encoded data removed]",
      "text/plain": [
       "<Figure size 432x288 with 1 Axes>"
      ]
     },
     "metadata": {
      "needs_background": "light"
     },
     "output_type": "display_data"
    },
    {
     "data": {
      "image/png": "[encoded data removed]",
      "text/plain": [
       "<Figure size 432x288 with 1 Axes>"
      ]
     },
     "metadata": {
      "needs_background": "light"
     },
     "output_type": "display_data"
    }
   ],
   "source": [
    "import matplotlib.pyplot as plt\n",
    "n = [i for i in range(1, 101)]\n",
    "plt.figure(1)\n",
    "plt.plot(n, error_qr)\n",
    "plt.title(\"Error for QR factorization\")\n",
    "plt.show\n",
    "plt.figure(2)\n",
    "plt.title(\"Error for LU factorization\")\n",
    "plt.plot(n, error)\n",
    "plt.show"
   ]
  },
  {
   "cell_type": "markdown",
   "metadata": {},
   "source": [
    "##### Πέμπτο Ερώτημα\n",
    "Παρατηρούμε ότι μετά από διάσταση n = 40 έχουμε αρκετά αισθητό σφάλμα σε κάποιες περιπτώσεις. Αυτό σημαίνει ότι για τους πίνακες Hilbert η αντιστρεψιμότητα δεν είναι και τόσο καθαρή ιδιότητα τους όσο n->άπειρο."
   ]
  },
  {
   "cell_type": "code",
   "execution_count": 167,
   "metadata": {},
   "outputs": [
    {
     "data": {
      "text/plain": [
       "<function matplotlib.pyplot.show(close=None, block=None)>"
      ]
     },
     "execution_count": 167,
     "metadata": {},
     "output_type": "execute_result"
    },
    {
     "data": {
      "image/png": "[encoded data removed]",
      "text/plain": [
       "<Figure size 432x288 with 1 Axes>"
      ]
     },
     "metadata": {
      "needs_background": "light"
     },
     "output_type": "display_data"
    }
   ],
   "source": [
    "norm2 = np.zeros((100, 1))\n",
    "for n in range(1, 101):\n",
    "    H = Hilbert_array(n)\n",
    "    I = np.identity(n)\n",
    "    I_h = np.dot(H, np.linalg.inv(H))\n",
    "    diff = I - I_h \n",
    "    norm2[n - 1] = np.linalg.norm(diff)\n",
    "    \n",
    "plt.plot(norm2)\n",
    "plt.title(\"2-Norm for the difference I - Hinv*(H)\")\n",
    "plt.show"
   ]
  },
  {
   "cell_type": "markdown",
   "metadata": {},
   "source": [
    "### Πρόβλημα Πρόσεγγισης"
   ]
  },
  {
   "cell_type": "code",
   "execution_count": 202,
   "metadata": {},
   "outputs": [
    {
     "data": {
      "image/png": "[encoded data removed]",
      "text/plain": [
       "<Figure size 432x288 with 1 Axes>"
      ]
     },
     "metadata": {
      "needs_background": "light"
     },
     "output_type": "display_data"
    }
   ],
   "source": [
    "t = np.linspace(0, 1, 51)\n",
    "np.random.seed(42)\n",
    "y = np.cos(4 * t) + 0.1 * np.random.randn(t.shape[0])\n",
    "plt.plot(np.cos(4 * t))\n",
    "plt.plot(y)\n",
    "plt.legend([\"Without Noise\", \"With Noise\"])\n",
    "plt.show()"
   ]
  },
  {
   "cell_type": "code",
   "execution_count": 203,
   "metadata": {},
   "outputs": [],
   "source": [
    "# Least square method\n",
    "t2 = np.zeros(len(t))\n",
    "t3 = np.zeros(len(t))\n",
    "t4 = np.zeros(len(t))\n",
    "for i in range(len(t)):\n",
    "    t2[i] = t[i] * t[i]\n",
    "    t3[i] = t[i] * t[i] * t[i]\n",
    "    t4[i] = t[i] * t[i] * t[i] * t[i]\n",
    "    "
   ]
  },
  {
   "cell_type": "code",
   "execution_count": 204,
   "metadata": {},
   "outputs": [
    {
     "data": {
      "text/plain": [
       "array([  1.06467848,  -0.14428951, -11.44998595,  12.79089552,\n",
       "        -2.92626842])"
      ]
     },
     "execution_count": 204,
     "metadata": {},
     "output_type": "execute_result"
    }
   ],
   "source": [
    "A = np.vstack([ np.ones(len(t)), t, t2, t3, t4]).T\n",
    "A_dot = np.dot(A.T, A)\n",
    "b_dot = np.dot(A.T, y)\n",
    "b_dot\n",
    "\n",
    "# Solve with linalg.solve\n",
    "x1 = np.linalg.solve(A_dot, b_dot)\n",
    "x1\n"
   ]
  },
  {
   "cell_type": "code",
   "execution_count": 206,
   "metadata": {},
   "outputs": [
    {
     "data": {
      "text/plain": [
       "array([  1.06467848,  -0.14428951, -11.44998595,  12.79089552,\n",
       "        -2.92626842])"
      ]
     },
     "execution_count": 206,
     "metadata": {},
     "output_type": "execute_result"
    }
   ],
   "source": [
    "# Solve with LU decomposition\n",
    "A = np.vstack([ np.ones(len(t)), t, t2, t3, t4]).T\n",
    "A_dot = np.dot(A.T, A)\n",
    "b_dot = np.dot(A.T, y)\n",
    "b_dot\n",
    "\n",
    "L, U = LUmine(A_dot)\n",
    "y_dot = np.linalg.solve(L, b_dot)\n",
    "x2 = np.linalg.solve(U, y_dot)\n",
    "x2"
   ]
  },
  {
   "cell_type": "code",
   "execution_count": 207,
   "metadata": {},
   "outputs": [
    {
     "data": {
      "text/plain": [
       "array([  1.0646791 ,  -0.14430223, -11.44992959,  12.7908096 ,\n",
       "        -2.92622629])"
      ]
     },
     "execution_count": 207,
     "metadata": {},
     "output_type": "execute_result"
    }
   ],
   "source": [
    "# Solve with LU decomposition\n",
    "A = np.vstack([ np.ones(len(t)), t, t2, t3, t4]).T\n",
    "A_dot = np.dot(A.T, A)\n",
    "b_dot = np.dot(A.T, y)\n",
    "b_dot\n",
    "\n",
    "Q, R = QRmine(A_dot)\n",
    "x3 = np.linalg.solve(R,np.dot(Q.T, b_dot))\n",
    "x3"
   ]
  },
  {
   "cell_type": "code",
   "execution_count": 216,
   "metadata": {},
   "outputs": [
    {
     "data": {
      "image/png": "[encoded data removed]",
      "text/plain": [
       "<Figure size 432x288 with 1 Axes>"
      ]
     },
     "metadata": {
      "needs_background": "light"
     },
     "output_type": "display_data"
    }
   ],
   "source": [
    "p1 = x1[0] + x1[1] * t + x1[2] * t**2 + x1[3] * t**3 + x1[4] * t**4\n",
    "p2 = x2[0] + x2[1] * t + x2[2] * t**2 + x2[3] * t**3 + x2[4] * t**4\n",
    "p3 = x3[0] + x3[1] * t + x3[2] * t**2 + x3[3] * t**3 + x3[4] * t**4\n",
    "\n",
    "plt.plot(y)\n",
    "plt.plot(p1)\n",
    "plt.plot(p2)\n",
    "plt.plot(p3)\n",
    "plt.plot(np.cos(4 * t))\n",
    "plt.legend([\"Signal with noise\", \"np.linalg.solve\", \"LU decomposition\", \"QR factorization\", \"Real signal\"])\n",
    "plt.show()\n"
   ]
  },
  {
   "cell_type": "markdown",
   "metadata": {},
   "source": [
    "Παρατηρούμε ότι και με τους τρεις τρόπους το αποτέλεσμα είναι το ίδιο πάνω κάτω. Επίσης, ενώ κάναμε προσέγγιση το σήμα με το θόρυβο που βάλαμε η προσέγγιση είναι ικανοποιητική και για το πραγματικό σήμα χωρίς θόρυβο."
   ]
  }
 ],
 "metadata": {
  "kernelspec": {
   "display_name": "Python 3",
   "language": "python",
   "name": "python3"
  },
  "language_info": {
   "codemirror_mode": {
    "name": "ipython",
    "version": 3
   },
   "file_extension": ".py",
   "mimetype": "text/x-python",
   "name": "python",
   "nbconvert_exporter": "python",
   "pygments_lexer": "ipython3",
   "version": "3.8.5"
  }
 },
 "nbformat": 4,
 "nbformat_minor": 4
}
